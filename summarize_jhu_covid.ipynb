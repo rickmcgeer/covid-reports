{
 "cells": [
  {
   "cell_type": "code",
   "execution_count": 32,
   "metadata": {},
   "outputs": [],
   "source": [
    "\n",
    "from os import listdir\n",
    "from os.path import isfile, join\n",
    "import json\n",
    "# Put the JHU Repo here for local access\n",
    "repo = '/home/jovyan/COVID-19'\n",
    "\n",
    "path = repo + '/csse_covid_19_data/csse_covid_19_daily_reports'\n",
    "onlyfiles = [f for f in listdir(path) if isfile(join(path, f)) and f.endswith('csv')]\n",
    "months = [(3, 21, 31), (4, 1, 30), (5, 1, 31), (6, 1, 30), (7, 1, 10)]\n",
    "db = [['month', 'day', 'state', 'county', 'cases','deaths', 'recovered', 'active']]\n",
    "\n",
    "def has_data(month, day):\n",
    "    # county-level data is only available from 3/21/2020 on\n",
    "    return month > 3 or (month == 3 and day > 21)\n",
    "\n",
    "# Data cleansing\n",
    "def convert_to_int(str):\n",
    "    try:\n",
    "        return int(str)\n",
    "    except ValueError:\n",
    "        return 0\n",
    "\n",
    "#  read a file, and for each line append it to the db\n",
    "def process_file(file_name):\n",
    "    month = int(file_name[:2])\n",
    "    day = int(file_name[3:5])\n",
    "    date = {'month': month, 'day': day}\n",
    "    if has_data(month, day):\n",
    "        file = open(path + '/' + file_name, 'r')\n",
    "        lines = file.readlines()[1:]\n",
    "        file.close()\n",
    "        records = [line.split(',') for line in lines]\n",
    "        for record in records:\n",
    "            db.append([month, day, record[2],  record[1],  convert_to_int(record[7]), convert_to_int(record[8]), convert_to_int(record[9]), convert_to_int(record[10])])\n",
    "\n",
    "# process_file('07-06-2020.csv')\n",
    "# db\n",
    "\n",
    "# process every file\n",
    "for f in onlyfiles: process_file(f)  \n",
    "\n",
    "# write the JSON\n",
    "import json\n",
    "out = json.dumps(db)\n",
    "# dump it to data/covid-reports.json\n",
    "f = open('data/covid-reports.json', 'w')\n",
    "f.write(out)\n",
    "f.close()"
   ]
  }
 ],
 "metadata": {
  "kernelspec": {
   "display_name": "Python 3",
   "language": "python",
   "name": "python3"
  },
  "language_info": {
   "codemirror_mode": {
    "name": "ipython",
    "version": 3
   },
   "file_extension": ".py",
   "mimetype": "text/x-python",
   "name": "python",
   "nbconvert_exporter": "python",
   "pygments_lexer": "ipython3",
   "version": "3.7.3"
  }
 },
 "nbformat": 4,
 "nbformat_minor": 4
}
